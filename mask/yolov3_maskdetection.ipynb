{
  "nbformat": 4,
  "nbformat_minor": 0,
  "metadata": {
    "colab": {
      "name": "yolov3_maskdetection.ipynb",
      "provenance": [],
      "collapsed_sections": [],
      "toc_visible": true,
      "include_colab_link": true
    },
    "kernelspec": {
      "name": "python3",
      "display_name": "Python 3"
    },
    "language_info": {
      "name": "python"
    },
    "accelerator": "GPU"
  },
  "cells": [
    {
      "cell_type": "markdown",
      "metadata": {
        "id": "view-in-github",
        "colab_type": "text"
      },
      "source": [
        "<a href=\"https://colab.research.google.com/github/just-benedict-it/yolov3/blob/main/mask/yolov3_maskdetection.ipynb\" target=\"_parent\"><img src=\"https://colab.research.google.com/assets/colab-badge.svg\" alt=\"Open In Colab\"/></a>"
      ]
    },
    {
      "cell_type": "markdown",
      "metadata": {
        "id": "HqMcg3Hb2N3Y"
      },
      "source": [
        "### Yolo v3 다운로드 및 설치"
      ]
    },
    {
      "cell_type": "code",
      "metadata": {
        "id": "3CwoCtHOZnPo"
      },
      "source": [
        "!git clone https://github.com/ultralytics/yolov3\n",
        "!cd yolov3;pip install -qr requirements.txt"
      ],
      "execution_count": null,
      "outputs": []
    },
    {
      "cell_type": "code",
      "metadata": {
        "id": "oiV08qd321So"
      },
      "source": [
        "!wget -O mask_detection.zip https://github.com/just-benedict-it/yolov3/blob/main/mask/mask_detection.zip?raw=true\n",
        "!mkdir /content/mask_detection\n",
        "!unzip mask_detection.zip -d /content/mask_detection"
      ],
      "execution_count": null,
      "outputs": []
    },
    {
      "cell_type": "markdown",
      "metadata": {
        "id": "1cDgV03PBrjj"
      },
      "source": [
        "### Dataset용 yaml 파일을 생성하고 학습 수행\n"
      ]
    },
    {
      "cell_type": "code",
      "metadata": {
        "id": "Li4wV4W9iA0d"
      },
      "source": [
        "!wget -O /content/mask_detection/mask.yaml https://raw.githubusercontent.com/just-benedict-it/yolov3/main/mask/mask.yaml"
      ],
      "execution_count": null,
      "outputs": []
    },
    {
      "cell_type": "code",
      "metadata": {
        "id": "kqWGfAn2mI9s"
      },
      "source": [
        "# Google Drive 접근을 위한 Mount 적용. \n",
        "import os, sys \n",
        "from google.colab import drive \n",
        "\n",
        "drive.mount('/content/gdrive')"
      ],
      "execution_count": null,
      "outputs": []
    },
    {
      "cell_type": "code",
      "metadata": {
        "id": "OufKe0qemJAg"
      },
      "source": [
        "# soft link로 Google Drive Directory 연결. \n",
        "!ln -s /content/gdrive/My\\ Drive/ /mydrive\n",
        "!ls /mydrive\n",
        "# Google Drive 밑에 Directory 생성. 이미 생성 되어 있을 시 오류 발생. \n",
        "!mkdir \"/mydrive/ultra_workdir\""
      ],
      "execution_count": null,
      "outputs": []
    },
    {
      "cell_type": "code",
      "metadata": {
        "id": "gtDpiIzWuRtG"
      },
      "source": [
        "!ls /mydrive"
      ],
      "execution_count": null,
      "outputs": []
    },
    {
      "cell_type": "code",
      "metadata": {
        "id": "DNmkMzDSmJDT"
      },
      "source": [
        "###  batch size는 8로 정할것. 16으로 설정시 성능이 좋아지지 않음. epoch는 150번으로 설정.    \n",
        "!cd /content/yolov3; python train.py --img 640 --batch 8 --epochs 150 --data /content/mask_detection/mask.yaml --weights yolov3.pt \\\n",
        "                                     --project=/mydrive/ultra_workdir --name mask_detection --exist-ok "
      ],
      "execution_count": null,
      "outputs": []
    },
    {
      "cell_type": "markdown",
      "metadata": {
        "id": "mykCHLU22MdC"
      },
      "source": [
        "### 단일 이미지 및 Video inference 수행 "
      ]
    },
    {
      "cell_type": "markdown",
      "metadata": {
        "id": "DfRyPbhL14tV"
      },
      "source": [
        "테스트에 사용된 사진"
      ]
    },
    {
      "cell_type": "markdown",
      "metadata": {
        "id": "fKo8OdmE11e-"
      },
      "source": [
        "깃허브 재림이 사진"
      ]
    },
    {
      "cell_type": "code",
      "metadata": {
        "id": "stAh7frp1bN2"
      },
      "source": [
        "!wget -O /content/mask_detection/jerrym.jpg https://github.com/just-benedict-it/yolov3/blob/main/data/2021-03-17-22-39-19-275.jpg?raw=true"
      ],
      "execution_count": null,
      "outputs": []
    },
    {
      "cell_type": "code",
      "metadata": {
        "id": "bJN1O3lc1meF"
      },
      "source": [
        "!cd /content/yolov3;python detect.py --source /content/mask_detection/jerrym.jpg \\\n",
        "                            --weights /mydrive/ultra_workdir/mask_detection/weights/best.pt --conf 0.3 \\\n",
        "                            --project=/content/data/output --name=run_image --exist-ok"
      ],
      "execution_count": null,
      "outputs": []
    },
    {
      "cell_type": "code",
      "metadata": {
        "id": "InMG1KXz1viO"
      },
      "source": [
        "from IPython.display import Image, clear_output \n",
        "\n",
        "Image(filename='/content/data/output/run_image/jerrym.jpg', width=800)"
      ],
      "execution_count": null,
      "outputs": []
    },
    {
      "cell_type": "markdown",
      "metadata": {
        "id": "nhagSssN17MY"
      },
      "source": [
        "깃허브 운동 영상"
      ]
    },
    {
      "cell_type": "code",
      "metadata": {
        "id": "3T6gaX18N-rT"
      },
      "source": [
        "!wget -O /content/mask_detection/workout.mp4 https://github.com/just-benedict-it/yolov3/blob/main/data/KakaoTalk_20210703_143130321.mp4?raw=true"
      ],
      "execution_count": null,
      "outputs": []
    },
    {
      "cell_type": "code",
      "metadata": {
        "id": "CznFfIGOL1lV"
      },
      "source": [
        "!cd /content/yolov3;python detect.py --source /content/mask_detection/workout.mp4 \\\n",
        "                            --weights /mydrive/ultra_workdir/mask_detection/weights/best.pt --conf 0.3 \\\n",
        "                            --project=/content/data/output --name=run_image --exist-ok --line-thickness 2"
      ],
      "execution_count": null,
      "outputs": []
    },
    {
      "cell_type": "code",
      "metadata": {
        "id": "YqXaJyREyPNQ"
      },
      "source": [
        ""
      ],
      "execution_count": null,
      "outputs": []
    },
    {
      "cell_type": "markdown",
      "metadata": {
        "id": "yvAlNeVS9ddN"
      },
      "source": [
        "깃허브 마스크 영상\n"
      ]
    },
    {
      "cell_type": "code",
      "metadata": {
        "id": "EWeX1Rj89gK3"
      },
      "source": [
        "!wget -O /content/mask_detection/home.mp4 https://github.com/just-benedict-it/yolov3/blob/main/data/KakaoTalk_20210703_150451322.mp4?raw=true"
      ],
      "execution_count": null,
      "outputs": []
    },
    {
      "cell_type": "code",
      "metadata": {
        "id": "ak_2gZ8M9gIf"
      },
      "source": [
        "!cd /content/yolov3;python detect.py --source /content/mask_detection/home.mp4 \\\n",
        "                            --weights /mydrive/ultra_workdir/mask_detection/weights/best.pt --conf 0.3 \\\n",
        "                            --project=/content/data/output --name=run_image --exist-ok --line-thickness 2"
      ],
      "execution_count": null,
      "outputs": []
    },
    {
      "cell_type": "code",
      "metadata": {
        "id": "8Er_i58r9gGf"
      },
      "source": [
        ""
      ],
      "execution_count": null,
      "outputs": []
    }
  ]
}